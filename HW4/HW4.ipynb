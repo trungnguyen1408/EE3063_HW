{
  "nbformat": 4,
  "nbformat_minor": 0,
  "metadata": {
    "colab": {
      "name": "GradientDescent.ipynb",
      "provenance": [],
      "collapsed_sections": []
    },
    "kernelspec": {
      "name": "python3",
      "display_name": "Python 3"
    },
    "language_info": {
      "name": "python"
    }
  },
  "cells": [
    {
      "cell_type": "code",
      "metadata": {
        "id": "92eCbvi-_LkO"
      },
      "source": [
        "import numpy as np\n",
        "import matplotlib.pyplot as plt\n",
        "import math\n",
        "from __future__ import division, print_function, unicode_literals"
      ],
      "execution_count": null,
      "outputs": []
    },
    {
      "cell_type": "code",
      "metadata": {
        "id": "nD-Jjqf3G_NL"
      },
      "source": [
        "def f1(X):\n",
        "  return (1/2*X[1]**4+X[0]**4+3*X[0]*X[1]+X[0]+3)/5\n",
        "def gradf1(X):\n",
        "  x = X[0]\n",
        "  y = X[1]\n",
        "  a = 4*x**3+3*y+1\n",
        "  b = 2*y**3+3*x\n",
        "  c = np.hstack((a,b))/5\n",
        " \n",
        "  return c"
      ],
      "execution_count": null,
      "outputs": []
    },
    {
      "cell_type": "code",
      "metadata": {
        "id": "iJN6NEpPdy3J"
      },
      "source": [
        "def f3(X):\n",
        "  return (4*np.cos(X[1]*X[0])+X[0]*X[1]+2*X[0]**2+X[1]**2)/ 4\n",
        "def gradf3(X):\n",
        "  x = X[0]\n",
        "  y = X[1]\n",
        "  a = (-4*y*np.sin(x*y)+y+4*x)/ 4\n",
        "  b = (-4*x*np.sin(x*y)+x+2*y) / 4\n",
        "  c = np.hstack((a,b))\n",
        " \n",
        "  return c"
      ],
      "execution_count": null,
      "outputs": []
    },
    {
      "cell_type": "code",
      "metadata": {
        "id": "t8iTkzVSH2Ro"
      },
      "source": [
        "def f2(x):\n",
        "  return 3*x**4-4*x**3-12*x**2-2\n",
        "def gradf2(x):\n",
        "  return 12*x**3-12*x**2-24*x"
      ],
      "execution_count": null,
      "outputs": []
    },
    {
      "cell_type": "code",
      "metadata": {
        "id": "LqO1Y-mgarv7"
      },
      "source": [
        "def GD(eta, x_0,gradfunction):\n",
        "    x = x_0\n",
        "    for it in range(10000):\n",
        "        x_new = x[-1] - eta*gradfunction(x[-1])\n",
        "        \n",
        "        if abs(gradfunction(x_new)) < 1e-3:\n",
        "          break\n",
        "        x=np.vstack((x,x_new))\n",
        "        \n",
        "    return x,it,eta"
      ],
      "execution_count": null,
      "outputs": []
    },
    {
      "cell_type": "code",
      "metadata": {
        "id": "NdE_OOnKaFhw"
      },
      "source": [
        "def GD2(eta, x_0,gradfunction,function):\n",
        "    x = x_0\n",
        "    for it in range(1000000):\n",
        "        x_new = x[-1] - eta*gradfunction(x[-1])\n",
        "        if abs(function(x_new)-function(x[-1])) < 1e-5:\n",
        "          break\n",
        "        x=np.vstack((x,x_new))\n",
        "        \n",
        "  \n",
        "\n",
        "    return x,it,eta"
      ],
      "execution_count": null,
      "outputs": []
    },
    {
      "cell_type": "code",
      "metadata": {
        "colab": {
          "base_uri": "https://localhost:8080/"
        },
        "id": "DxeDxzcnaQiE",
        "outputId": "9bff2ffc-59c1-482e-cd17-166e110ffa93"
      },
      "source": [
        "# X=np.random.randn(1,2)\n",
        "X= np.array([[-4,-4]])\n",
        "x,it,eta=GD2(0.1,X,gradf1,f1)\n",
        "print(\"learning rate= {}\".format(eta))\n",
        "print(\"Số lần cập nhật nghiệm: {}\".format(it))\n",
        "print(\"Nghiệm khởi tạo: {}\".format(x[0]))\n",
        "print(\"4 nghiệm cập nhật cuối cùng: \\n {}\".format(x[-4:,:]))\n",
        "print(\"Giá trị của hàm số tại nghiệm cuối {} là : {}\".format(x[-1],f1(x[-1])))\n"
      ],
      "execution_count": null,
      "outputs": [
        {
          "output_type": "stream",
          "name": "stdout",
          "text": [
            "learning rate= 0.1\n",
            "Số lần cập nhật nghiệm: 35\n",
            "Nghiệm khởi tạo: [-4. -4.]\n",
            "4 nghiệm cập nhật cuối cùng: \n",
            " [[ 0.83009488 -1.08270499]\n",
            " [ 0.82929853 -1.08174264]\n",
            " [ 0.82857601 -1.08086777]\n",
            " [ 0.82792015 -1.08007229]]\n",
            "Giá trị của hàm số tại nghiệm cuối [ 0.82792015 -1.08007229] là : 0.45911001519925626\n"
          ]
        }
      ]
    },
    {
      "cell_type": "code",
      "metadata": {
        "colab": {
          "base_uri": "https://localhost:8080/"
        },
        "id": "sSA1Uhv1ZX5X",
        "outputId": "50a76c75-9c8f-4e5c-955c-3b4da165b15a"
      },
      "source": [
        "print(x[-4:,:])"
      ],
      "execution_count": null,
      "outputs": [
        {
          "output_type": "stream",
          "name": "stdout",
          "text": [
            "[[ 2.46471843 -3.64885319]\n",
            " [ 2.46203626 -3.63108498]\n",
            " [ 2.47586669 -3.62584533]\n",
            " [ 2.47587622 -3.61362128]]\n"
          ]
        }
      ]
    },
    {
      "cell_type": "code",
      "metadata": {
        "colab": {
          "base_uri": "https://localhost:8080/"
        },
        "id": "0y4nk-fhGc9b",
        "outputId": "18a304b3-7375-4ca2-d8f6-9b2ba832c724"
      },
      "source": [
        "np.arange(0,10).reshape(10,-1)"
      ],
      "execution_count": null,
      "outputs": [
        {
          "output_type": "execute_result",
          "data": {
            "text/plain": [
              "array([[0],\n",
              "       [1],\n",
              "       [2],\n",
              "       [3],\n",
              "       [4],\n",
              "       [5],\n",
              "       [6],\n",
              "       [7],\n",
              "       [8],\n",
              "       [9]])"
            ]
          },
          "metadata": {},
          "execution_count": 12
        }
      ]
    },
    {
      "cell_type": "code",
      "metadata": {
        "id": "0vUnmEfDbNHX"
      },
      "source": [
        "X=np.array(([[4]]))\n",
        "a,b,c = GD(0.4,X, gradf2)\n",
        "x=np.linspace(-4,3,5000)\n",
        "y=f2(x)\n",
        "plt.figure(figsize=(15,10))\n",
        "plt.plot(a[1:-1], f2(a[1:-1]), 'go', markersize = 8)\n",
        "plt.plot(a[0], f2(a[0]), 'yo', markersize = 8)\n",
        "plt.plot(a[-1], f2(a[-1]), 'bo', markersize = 8)  \n",
        "\n",
        "plt.plot(x,y,'-r')\n",
        "plt.xlabel(\"x\",)\n",
        "plt.ylabel(\"y\")\n",
        "plt.title(\"Đồ thị hàm số y=f(x)\")\n",
        "print(\" Số lần cập nhật nghiệm là: {}\\n Nghiệm được cập nhật cuối cùng:{:.3f} \\n Giá trị hàm số tại x={:.3f} là: {:.3f} \\n Learning rate: eta={}\".format(b,float(a[-1]),float(a[-1]),float(f2(a[-1])),c))"
      ],
      "execution_count": null,
      "outputs": []
    }
  ]
}