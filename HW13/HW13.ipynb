{
  "nbformat": 4,
  "nbformat_minor": 0,
  "metadata": {
    "colab": {
      "name": "LSTM_GA.ipynb",
      "provenance": []
    },
    "kernelspec": {
      "name": "python3",
      "display_name": "Python 3"
    },
    "language_info": {
      "name": "python"
    }
  },
  "cells": [
    {
      "cell_type": "code",
      "metadata": {
        "colab": {
          "base_uri": "https://localhost:8080/"
        },
        "id": "6Zz07qS-K_o1",
        "outputId": "cd121008-8cc5-422e-8246-fac30957ace5"
      },
      "source": [
        "pip install pygad "
      ],
      "execution_count": null,
      "outputs": [
        {
          "output_type": "stream",
          "name": "stdout",
          "text": [
            "Collecting pygad\n",
            "  Downloading pygad-2.16.1-py3-none-any.whl (53 kB)\n",
            "\u001b[?25l\r\u001b[K     |██████▏                         | 10 kB 24.2 MB/s eta 0:00:01\r\u001b[K     |████████████▎                   | 20 kB 30.8 MB/s eta 0:00:01\r\u001b[K     |██████████████████▍             | 30 kB 15.2 MB/s eta 0:00:01\r\u001b[K     |████████████████████████▌       | 40 kB 10.8 MB/s eta 0:00:01\r\u001b[K     |██████████████████████████████▋ | 51 kB 5.5 MB/s eta 0:00:01\r\u001b[K     |████████████████████████████████| 53 kB 1.4 MB/s \n",
            "\u001b[?25hRequirement already satisfied: matplotlib in /usr/local/lib/python3.7/dist-packages (from pygad) (3.2.2)\n",
            "Requirement already satisfied: numpy in /usr/local/lib/python3.7/dist-packages (from pygad) (1.19.5)\n",
            "Requirement already satisfied: kiwisolver>=1.0.1 in /usr/local/lib/python3.7/dist-packages (from matplotlib->pygad) (1.3.2)\n",
            "Requirement already satisfied: python-dateutil>=2.1 in /usr/local/lib/python3.7/dist-packages (from matplotlib->pygad) (2.8.2)\n",
            "Requirement already satisfied: pyparsing!=2.0.4,!=2.1.2,!=2.1.6,>=2.0.1 in /usr/local/lib/python3.7/dist-packages (from matplotlib->pygad) (2.4.7)\n",
            "Requirement already satisfied: cycler>=0.10 in /usr/local/lib/python3.7/dist-packages (from matplotlib->pygad) (0.11.0)\n",
            "Requirement already satisfied: six>=1.5 in /usr/local/lib/python3.7/dist-packages (from python-dateutil>=2.1->matplotlib->pygad) (1.15.0)\n",
            "Installing collected packages: pygad\n",
            "Successfully installed pygad-2.16.1\n"
          ]
        }
      ]
    },
    {
      "cell_type": "code",
      "metadata": {
        "id": "ClMdTDfxLHtw"
      },
      "source": [
        "import pygad\n",
        "import numpy as np\n",
        "import scipy"
      ],
      "execution_count": null,
      "outputs": []
    },
    {
      "cell_type": "code",
      "metadata": {
        "id": "m9ja7EEPLKgH"
      },
      "source": [
        "X= np.array([[1,0,0,0]]).T\n",
        "Y = np.array([[0,1,0,0],[0,0,1,0],[0,0,1,0],[0,0,0,1]]).T"
      ],
      "execution_count": null,
      "outputs": []
    },
    {
      "cell_type": "code",
      "metadata": {
        "colab": {
          "base_uri": "https://localhost:8080/"
        },
        "id": "vc-0YMqcTYpd",
        "outputId": "88c49e27-cb92-44a4-d552-74b322901db9"
      },
      "source": [
        "word = \"hello\"\n",
        "chars = set(word)\n",
        "int2char = dict(enumerate(chars))\n",
        "char2int = {char:idx for idx,char in int2char.items()}\n",
        "print(int2char,char2int)"
      ],
      "execution_count": null,
      "outputs": [
        {
          "output_type": "stream",
          "name": "stdout",
          "text": [
            "{0: 'o', 1: 'e', 2: 'h', 3: 'l'} {'o': 0, 'e': 1, 'h': 2, 'l': 3}\n"
          ]
        }
      ]
    },
    {
      "cell_type": "code",
      "metadata": {
        "colab": {
          "base_uri": "https://localhost:8080/"
        },
        "id": "KUmiPQebYC2H",
        "outputId": "78b6eca0-7526-49cc-96b5-9f60878fc66d"
      },
      "source": [
        "inp,out = [],[]\n",
        "inp = list(word[:-1])\n",
        "out = list(word[1:])\n",
        "print(inp,out)\n",
        "for i in range(len(word)-1):\n",
        "  inp[i] = char2int[inp[i]]\n",
        "  out[i] = char2int[out[i]]\n",
        "print(inp,out)"
      ],
      "execution_count": null,
      "outputs": [
        {
          "output_type": "stream",
          "name": "stdout",
          "text": [
            "['h', 'e', 'l', 'l'] ['e', 'l', 'l', 'o']\n",
            "[2, 1, 3, 3] [1, 3, 3, 0]\n"
          ]
        }
      ]
    },
    {
      "cell_type": "code",
      "metadata": {
        "colab": {
          "base_uri": "https://localhost:8080/"
        },
        "id": "6EsogWoOZpU9",
        "outputId": "7f2fe64e-d477-48cb-f645-5d5372602205"
      },
      "source": [
        "def one_hot_encoder(vector,seq_length,dict_size):\n",
        "  features = np.zeros((seq_length,dict_size))\n",
        "  for i in range(seq_length):\n",
        "    features[i,vector[i]] = 1\n",
        "  return features\n",
        "seq_length = len(inp)\n",
        "dict_size = len(char2int)\n",
        "print(one_hot_encoder(inp,seq_length,dict_size))"
      ],
      "execution_count": null,
      "outputs": [
        {
          "output_type": "stream",
          "name": "stdout",
          "text": [
            "[[0. 0. 1. 0.]\n",
            " [0. 1. 0. 0.]\n",
            " [0. 0. 0. 1.]\n",
            " [0. 0. 0. 1.]]\n"
          ]
        }
      ]
    },
    {
      "cell_type": "code",
      "metadata": {
        "id": "gsVNQXAVQ6yw"
      },
      "source": [
        "def softmax(x): \n",
        "    return np.exp(x)/sum(np.exp(x))"
      ],
      "execution_count": null,
      "outputs": []
    },
    {
      "cell_type": "code",
      "metadata": {
        "id": "CXDt4bRhSlLR"
      },
      "source": [
        "def sigmoid(x):\n",
        "  return 1/(1+np.exp(-x))\n"
      ],
      "execution_count": null,
      "outputs": []
    },
    {
      "cell_type": "code",
      "metadata": {
        "id": "y41aPe_jgMLb"
      },
      "source": [
        "def crossEntropy(X,Y):\n",
        "    return -np.sum(np.log(X)*Y)"
      ],
      "execution_count": null,
      "outputs": []
    },
    {
      "cell_type": "code",
      "metadata": {
        "id": "tX-R8ZibQ8s8"
      },
      "source": [
        "def crossEntropy(X,Y):\n",
        "    return -np.sum(np.log(X)*Y)"
      ],
      "execution_count": null,
      "outputs": []
    },
    {
      "cell_type": "code",
      "metadata": {
        "id": "Koyzt0hOQ_Lt"
      },
      "source": [
        "def LSTM_GA(solution, solution_idx):\n",
        "    Wf = solution[0:21].reshape(3,7)\n",
        "    Wi = solution[21:42].reshape(3,7)\n",
        "    Wc = solution[42:63].reshape(3,7)\n",
        "    Wo = solution[63:84].reshape(3,7)\n",
        "    bf = solution[84:87].reshape(3,1)\n",
        "    bi = solution[87:90].reshape(3,1)\n",
        "    bc = solution[90:93].reshape(3,1)\n",
        "    bo = solution[93:96].reshape(3,1)\n",
        "    Why = solution[96:108].reshape(4,3)\n",
        "    by = solution[108:112].reshape(4,1)\n",
        "    \n",
        "    \n",
        "    h_s = np.zeros((3,1))\n",
        "    y_s = X\n",
        "    C_s = np.zeros((3,1))\n",
        "\n",
        "    for t in range(X.shape[0]):\n",
        "        x_t = y_s[:,-1].reshape(4,1)\n",
        "        z_t = np.vstack((x_t,h_s[:,-1].reshape(3,1)))  ## x_t + h_(t-1)\n",
        "        \n",
        "        f_t = sigmoid(np.dot(Wf,z_t)+bf)\n",
        "        i_t = sigmoid(np.dot(Wi,z_t)+bi)\n",
        "        C_t1 = np.tanh(np.dot(Wc,z_t)+bi) # C mu t\n",
        "        C_t = f_t*C_s[:,-1].reshape(3,1) +i_t*C_t1\n",
        "        o_t = sigmoid(np.dot(Wo,z_t)+bo)\n",
        "        h_t = o_t*np.tanh(C_t)\n",
        "        y_t = softmax(np.dot(Why, h_t) + by) \n",
        "        \n",
        "        h_s = np.hstack((h_s,h_t)) \n",
        "        y_s = np.hstack((y_s,y_t))\n",
        "        C_s = np.hstack((C_s,C_t))\n",
        "    h_s = h_s[:,1:]\n",
        "    y_s = y_s[:,1:]\n",
        "    return 1/np.sum(crossEntropy(y_s,Y))"
      ],
      "execution_count": null,
      "outputs": []
    },
    {
      "cell_type": "code",
      "metadata": {
        "id": "ugIc-lP9XAXe"
      },
      "source": [
        "def LSTM(solution, solution_idx,X,Y):\n",
        "    Wf = solution[0:21].reshape(3,7)\n",
        "    Wi = solution[21:42].reshape(3,7)\n",
        "    Wc = solution[42:63].reshape(3,7)\n",
        "    Wo = solution[63:84].reshape(3,7)\n",
        "    bf = solution[84:87].reshape(3,1)\n",
        "    bi = solution[87:90].reshape(3,1)\n",
        "    bc = solution[90:93].reshape(3,1)\n",
        "    bo = solution[93:96].reshape(3,1)\n",
        "    Why = solution[96:108].reshape(4,3)\n",
        "    by = solution[108:112].reshape(4,1)\n",
        "    \n",
        "    \n",
        "    h_s = np.zeros((3,1))\n",
        "    y_s = X\n",
        "    C_s = np.zeros((3,1))\n",
        "\n",
        "    for t in range(X.shape[0]):\n",
        "        x_t = y_s[:,-1].reshape(4,1)\n",
        "        z_t = np.vstack((x_t,h_s[:,-1].reshape(3,1)))  ## x_t + h_(t-1)\n",
        "        \n",
        "        f_t = sigmoid(np.dot(Wf,z_t)+bf)\n",
        "        i_t = sigmoid(np.dot(Wi,z_t)+bi)\n",
        "        C_t1 = np.tanh(np.dot(Wc,z_t)+bi) # C mu t\n",
        "        C_t = f_t*C_s[:,-1].reshape(3,1) +i_t*C_t1\n",
        "        o_t = sigmoid(np.dot(Wo,z_t)+bo)\n",
        "        h_t = o_t*np.tanh(C_t)\n",
        "        y_t = softmax(np.dot(Why, h_t) + by) \n",
        "        \n",
        "        h_s = np.hstack((h_s,h_t)) \n",
        "        y_s = np.hstack((y_s,y_t))\n",
        "        C_s = np.hstack((C_s,C_t))\n",
        "    h_s = h_s[:,1:]\n",
        "    y_s = y_s[:,1:]\n",
        "    return h_s,y_s,crossEntropy(y_s,Y)"
      ],
      "execution_count": null,
      "outputs": []
    },
    {
      "cell_type": "code",
      "metadata": {
        "colab": {
          "base_uri": "https://localhost:8080/"
        },
        "id": "dL3I1ICXf_vi",
        "outputId": "3509b14d-2a48-4496-d554-9408e54782e0"
      },
      "source": [
        "fitness_function = LSTM_GA\n",
        "num_generations = 100\n",
        "num_parents_mating = 10\n",
        "sol_per_pop = 20\n",
        "num_genes = 116\n",
        "\n",
        "init_range_low = -2\n",
        "init_range_high = 5\n",
        "\n",
        "parent_selection_type = \"sss\"\n",
        "keep_parents = 1\n",
        "\n",
        "crossover_type =\"single_point\"\n",
        "\n",
        "mutation_type = \"random\"\n",
        "mutation_percent_genes = 20\n",
        "\n",
        "\n",
        "ga_instance = pygad.GA(\n",
        "                       num_generations=num_generations,\n",
        "                       num_parents_mating=num_parents_mating,\n",
        "                       fitness_func=fitness_function,\n",
        "                       sol_per_pop=sol_per_pop,\n",
        "                       num_genes=num_genes,\n",
        "                       init_range_low=init_range_low,\n",
        "                       init_range_high=init_range_high,\n",
        "                       parent_selection_type=parent_selection_type,\n",
        "                       keep_parents=keep_parents,\n",
        "                       crossover_type=crossover_type,\n",
        "                       mutation_type=mutation_type,\n",
        "                       mutation_percent_genes=mutation_percent_genes)\n",
        "\n",
        "ga_instance.run()\n",
        "\n",
        "solution, solution_fitness, solution_idx = ga_instance.best_solution()\n",
        "\n",
        "print(\"Fitness value of the best solution = {solution_fitness}\".format(solution_fitness=solution_fitness))\n",
        "\n",
        "\n"
      ],
      "execution_count": null,
      "outputs": [
        {
          "output_type": "stream",
          "name": "stdout",
          "text": [
            "Fitness value of the best solution = 4795.422611964595\n"
          ]
        }
      ]
    },
    {
      "cell_type": "code",
      "metadata": {
        "colab": {
          "base_uri": "https://localhost:8080/"
        },
        "id": "gD5zk42Cg9Xg",
        "outputId": "c924d99a-8144-4a55-e828-564cf967854e"
      },
      "source": [
        "h,y,Loss =LSTM(solution,solution,X,Y)\n",
        "print(\"Ket qua thu duoc y = \\n {} \\n Ket qua sau khi lam tron 3 chu so y= \\n {}. \\n Loss= {} \".format(y,np.round(y,decimals=3),Loss))"
      ],
      "execution_count": null,
      "outputs": [
        {
          "output_type": "stream",
          "name": "stdout",
          "text": [
            "Ket qua thu duoc y = \n",
            " [[3.92802140e-05 4.46306774e-09 7.09707238e-08 6.55187401e-06]\n",
            " [9.99856985e-01 2.18921955e-05 1.13958137e-06 1.56525284e-05]\n",
            " [7.09024364e-05 9.99976796e-01 9.99994536e-01 1.46341881e-05]\n",
            " [3.28318884e-05 1.30729093e-06 4.25337319e-06 9.99963161e-01]] \n",
            " Ket qua sau khi lam tron 3 chu so y= \n",
            " [[0. 0. 0. 0.]\n",
            " [1. 0. 0. 0.]\n",
            " [0. 1. 1. 0.]\n",
            " [0. 0. 0. 1.]]. \n",
            " Loss= 0.00020853219432735644 \n"
          ]
        }
      ]
    },
    {
      "cell_type": "code",
      "metadata": {
        "id": "xqavSgUKhKlk"
      },
      "source": [
        "Wf = solution[0:21].reshape(3,7)\n",
        "Wi = solution[21:42].reshape(3,7)\n",
        "Wc = solution[42:63].reshape(3,7)\n",
        "Wo = solution[63:84].reshape(3,7)\n",
        "bf = solution[84:87].reshape(3,1)\n",
        "bi = solution[87:90].reshape(3,1)\n",
        "bc = solution[90:93].reshape(3,1)\n",
        "bo = solution[93:96].reshape(3,1)\n",
        "Why = solution[96:108].reshape(4,3)\n",
        "by = solution[108:112].reshape(4,1)"
      ],
      "execution_count": null,
      "outputs": []
    },
    {
      "cell_type": "code",
      "metadata": {
        "colab": {
          "base_uri": "https://localhost:8080/"
        },
        "id": "lbi3kq70hP21",
        "outputId": "58e19e49-bf90-4e46-babf-f56888a9852e"
      },
      "source": [
        "print(\"Wf:\\n {} \".format(np.round(Wf,decimals=3)))\n",
        "print(\"Wi:\\n {} \".format(np.round(Wi,decimals=3)))\n",
        "print(\"Wc:\\n {} \".format(np.round(Wc,decimals=3)))\n",
        "print(\"Wo:\\n {} \".format(np.round(Wo,decimals=3)))\n",
        "print(\"Why:\\n {} \".format(np.round(Why,decimals=3)))"
      ],
      "execution_count": null,
      "outputs": [
        {
          "output_type": "stream",
          "name": "stdout",
          "text": [
            "Wf:\n",
            " [[-3.231 -6.098  1.397  1.67   0.536 -5.929 -2.829]\n",
            " [ 3.944  3.435 -0.399  1.947 -0.251  5.454  1.956]\n",
            " [ 1.074  0.791  3.521  4.603  6.056  1.949  4.359]] \n",
            "Wi:\n",
            " [[ 3.687  0.746  1.894 -1.827 -0.665  0.873  6.061]\n",
            " [-0.965  6.552 -1.464  2.026  1.656  2.542  0.807]\n",
            " [-1.302  2.947 -1.313  0.12   3.517 -1.76  -2.466]] \n",
            "Wc:\n",
            " [[-3.32   7.1    3.226  1.212 -3.257 -1.68   3.537]\n",
            " [-3.198  6.489 -1.213  5.732  2.398  1.302  0.873]\n",
            " [-2.041 -0.708  7.896 -5.708  5.177 -1.351  8.03 ]] \n",
            "Wo:\n",
            " [[ 3.497  2.813  2.886  4.704 -0.717 -2.886  1.585]\n",
            " [ 2.838 -0.613  4.181 -1.331  8.143 -2.068  2.395]\n",
            " [ 1.488 -2.089  1.068  1.02  -0.46   6.011  3.402]] \n",
            "Why:\n",
            " [[ -3.014   5.098  -1.262]\n",
            " [-10.003  -4.149   1.157]\n",
            " [  8.435  -2.521  -0.446]\n",
            " [ -4.109   9.484   7.392]] \n"
          ]
        }
      ]
    },
    {
      "cell_type": "code",
      "metadata": {
        "colab": {
          "base_uri": "https://localhost:8080/"
        },
        "id": "V3JmlS5cLSwr",
        "outputId": "7dab2f33-6c88-4968-fea6-18d0eb9a08ab"
      },
      "source": [
        "print(\"bf:\\n {} \".format(np.round(bf,decimals=3)))\n",
        "print(\"bi:\\n {} \".format(np.round(bi,decimals=3)))\n",
        "print(\"bc:\\n {} \".format(np.round(bc,decimals=3)))\n",
        "print(\"bo:\\n {} \".format(np.round(bo,decimals=3)))\n",
        "print(\"by:\\n {} \".format(np.round(by,decimals=3)))"
      ],
      "execution_count": null,
      "outputs": [
        {
          "output_type": "stream",
          "name": "stdout",
          "text": [
            "bf:\n",
            " [[-0.36 ]\n",
            " [ 3.879]\n",
            " [ 7.573]] \n",
            "bi:\n",
            " [[-0.028]\n",
            " [-0.015]\n",
            " [ 2.714]] \n",
            "bc:\n",
            " [[2.868]\n",
            " [1.87 ]\n",
            " [2.517]] \n",
            "bo:\n",
            " [[ 3.108]\n",
            " [-3.82 ]\n",
            " [-2.78 ]] \n",
            "by:\n",
            " [[-1.322]\n",
            " [ 5.4  ]\n",
            " [ 8.9  ]\n",
            " [ 0.04 ]] \n"
          ]
        }
      ]
    }
  ]
}