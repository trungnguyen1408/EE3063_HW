{
  "nbformat": 4,
  "nbformat_minor": 0,
  "metadata": {
    "colab": {
      "name": "RNN_GA.ipynb",
      "provenance": [],
      "collapsed_sections": []
    },
    "kernelspec": {
      "name": "python3",
      "display_name": "Python 3"
    },
    "language_info": {
      "name": "python"
    }
  },
  "cells": [
    {
      "cell_type": "code",
      "metadata": {
        "colab": {
          "base_uri": "https://localhost:8080/"
        },
        "id": "cLcEV_gXTaTn",
        "outputId": "050ed86f-7884-4efe-cf16-91fa3d1e0b97"
      },
      "source": [
        "pip install pygad "
      ],
      "execution_count": null,
      "outputs": [
        {
          "output_type": "stream",
          "name": "stdout",
          "text": [
            "Collecting pygad\n",
            "  Downloading pygad-2.16.1-py3-none-any.whl (53 kB)\n",
            "\u001b[?25l\r\u001b[K     |██████▏                         | 10 kB 19.4 MB/s eta 0:00:01\r\u001b[K     |████████████▎                   | 20 kB 11.1 MB/s eta 0:00:01\r\u001b[K     |██████████████████▍             | 30 kB 8.9 MB/s eta 0:00:01\r\u001b[K     |████████████████████████▌       | 40 kB 8.0 MB/s eta 0:00:01\r\u001b[K     |██████████████████████████████▋ | 51 kB 5.2 MB/s eta 0:00:01\r\u001b[K     |████████████████████████████████| 53 kB 946 kB/s \n",
            "\u001b[?25hRequirement already satisfied: numpy in /usr/local/lib/python3.7/dist-packages (from pygad) (1.19.5)\n",
            "Requirement already satisfied: matplotlib in /usr/local/lib/python3.7/dist-packages (from pygad) (3.2.2)\n",
            "Requirement already satisfied: pyparsing!=2.0.4,!=2.1.2,!=2.1.6,>=2.0.1 in /usr/local/lib/python3.7/dist-packages (from matplotlib->pygad) (2.4.7)\n",
            "Requirement already satisfied: cycler>=0.10 in /usr/local/lib/python3.7/dist-packages (from matplotlib->pygad) (0.11.0)\n",
            "Requirement already satisfied: python-dateutil>=2.1 in /usr/local/lib/python3.7/dist-packages (from matplotlib->pygad) (2.8.2)\n",
            "Requirement already satisfied: kiwisolver>=1.0.1 in /usr/local/lib/python3.7/dist-packages (from matplotlib->pygad) (1.3.2)\n",
            "Requirement already satisfied: six>=1.5 in /usr/local/lib/python3.7/dist-packages (from python-dateutil>=2.1->matplotlib->pygad) (1.15.0)\n",
            "Installing collected packages: pygad\n",
            "Successfully installed pygad-2.16.1\n"
          ]
        }
      ]
    },
    {
      "cell_type": "code",
      "metadata": {
        "id": "90SjUtFcS2hs"
      },
      "source": [
        "import pygad\n",
        "import numpy as np\n",
        "import scipy"
      ],
      "execution_count": null,
      "outputs": []
    },
    {
      "cell_type": "code",
      "metadata": {
        "id": "ItoLSr7Xrupo"
      },
      "source": [
        "X= np.array([[1,0,0,0]]).T\n",
        "Y = np.array([[0,1,0,0],[0,0,1,0],[0,0,1,0],[0,0,0,1]]).T"
      ],
      "execution_count": null,
      "outputs": []
    },
    {
      "cell_type": "code",
      "metadata": {
        "id": "VUHjznyor3qb"
      },
      "source": [
        "def softmax(x): \n",
        "    return np.exp(x)/sum(np.exp(x))"
      ],
      "execution_count": null,
      "outputs": []
    },
    {
      "cell_type": "code",
      "metadata": {
        "id": "DN7rzjzm45Rp"
      },
      "source": [
        "def crossEntropy(X,Y):\n",
        "    return -np.sum(np.log(X)*Y)"
      ],
      "execution_count": null,
      "outputs": []
    },
    {
      "cell_type": "code",
      "metadata": {
        "id": "hYfpli30BQtf"
      },
      "source": [
        "def GA_RNN(solution, solution_idx):\n",
        "    Wxh = solution[0:12].reshape(3,4)\n",
        "    Whh = solution[12:21].reshape(3,3)\n",
        "    Why = solution[21:33].reshape(4,3)\n",
        "    bh = solution[33:36].reshape(3,1)\n",
        "    by = solution[36:].reshape(4,1)\n",
        "    hs = np.zeros((4,1))\n",
        "    xs = np.zeros((4,4))\n",
        "    h_s = np.zeros((3,1))\n",
        "    ys = X\n",
        "    # ps = np.zeros((4,1))\n",
        "\n",
        "    for t in range(4):\n",
        "        xs = ys[:,-1].reshape(4,1)# encode in 1-of-k representation\n",
        "        \n",
        "        h_t = np.tanh(np.dot(Wxh, xs) + np.dot(Whh, h_s[:,-1].reshape(3,1) )+ bh) # hidden state\n",
        "        h_s = np.hstack((h_s,h_t))    \n",
        "        y_t = softmax(np.dot(Why, h_t) + by) # unnormalized log probabilities for next chars\n",
        "        ys = np.hstack((ys,y_t))\n",
        "\n",
        "    h_s = h_s[:,1:]\n",
        "    ys = ys[:,1:]\n",
        "    return 1/np.sum(crossEntropy(ys,Y))"
      ],
      "execution_count": null,
      "outputs": []
    },
    {
      "cell_type": "code",
      "metadata": {
        "colab": {
          "base_uri": "https://localhost:8080/"
        },
        "id": "jBgg-PYXGKlj",
        "outputId": "6633d863-1705-4513-ce68-769d4d167496"
      },
      "source": [
        "fitness_function = GA_RNN\n",
        "num_generations = 100\n",
        "num_parents_mating = 10\n",
        "sol_per_pop = 20\n",
        "num_genes = 40\n",
        "\n",
        "init_range_low = -2\n",
        "init_range_high = 5\n",
        "\n",
        "parent_selection_type = \"sss\"\n",
        "keep_parents = 1\n",
        "\n",
        "crossover_type =\"single_point\"\n",
        "\n",
        "mutation_type = \"random\"\n",
        "mutation_percent_genes = 20\n",
        "\n",
        "\n",
        "ga_instance = pygad.GA(\n",
        "                       num_generations=num_generations,\n",
        "                       num_parents_mating=num_parents_mating,\n",
        "                       fitness_func=fitness_function,\n",
        "                       sol_per_pop=sol_per_pop,\n",
        "                       num_genes=num_genes,\n",
        "                       init_range_low=init_range_low,\n",
        "                       init_range_high=init_range_high,\n",
        "                       parent_selection_type=parent_selection_type,\n",
        "                       keep_parents=keep_parents,\n",
        "                       crossover_type=crossover_type,\n",
        "                       mutation_type=mutation_type,\n",
        "                       mutation_percent_genes=mutation_percent_genes)\n",
        "\n",
        "ga_instance.run()\n",
        "\n",
        "solution, solution_fitness, solution_idx = ga_instance.best_solution()\n",
        "\n",
        "print(\"Fitness value of the best solution = {solution_fitness}\".format(solution_fitness=solution_fitness))\n",
        "\n",
        "\n"
      ],
      "execution_count": null,
      "outputs": [
        {
          "output_type": "stream",
          "name": "stdout",
          "text": [
            "Fitness value of the best solution = 69346957.75547665\n"
          ]
        }
      ]
    },
    {
      "cell_type": "code",
      "metadata": {
        "id": "tP4vYVEsGnYs"
      },
      "source": [
        "def RNN(solution, solution_idx,X,Y):\n",
        "    Wxh = solution[0:12].reshape(3,4)\n",
        "    Whh = solution[12:21].reshape(3,3)\n",
        "    Why = solution[21:33].reshape(4,3)\n",
        "    bh = solution[33:36].reshape(3,1)\n",
        "    by = solution[36:].reshape(4,1)\n",
        "    hs = np.zeros((4,1))\n",
        "   \n",
        "    Loss =0\n",
        "    xs = np.zeros((4,4))\n",
        "    h_s = np.zeros((3,1))\n",
        "    ys = X\n",
        "    # ps = np.zeros((4,1))\n",
        "\n",
        "    for t in range(X.shape[0]):\n",
        "        xs = ys[:,-1].reshape(4,1) # encode in 1-of-k representation\n",
        "        \n",
        "        h_t = np.tanh(np.dot(Wxh, xs) + np.dot(Whh, h_s[:,-1].reshape(3,1) )+ bh) # hidden state\n",
        "        h_s = np.hstack((h_s,h_t))    \n",
        "        y_t = softmax(np.dot(Why, h_t) + by) # unnormalized log probabilities for next chars\n",
        "        ys = np.hstack((ys,y_t))\n",
        "\n",
        "    h_s = h_s[:,1:]\n",
        "    ys = ys[:,1:]\n",
        "    return h_s,ys,crossEntropy(ys,Y)"
      ],
      "execution_count": null,
      "outputs": []
    },
    {
      "cell_type": "code",
      "metadata": {
        "colab": {
          "base_uri": "https://localhost:8080/"
        },
        "id": "htTdTDVTG_a6",
        "outputId": "5626ec86-1de2-49b6-b3b5-e7eb323bfcec"
      },
      "source": [
        "h,y,Loss =RNN(solution,solution,X,Y)\n",
        "print(\"Ket qua thu duoc y = \\n {} \\n Ket qua sau khi lam tron 3 chu so y= \\n {}. \\n Loss= {} \".format(y,np.round(y,decimals=3),Loss))\n"
      ],
      "execution_count": null,
      "outputs": [
        {
          "output_type": "stream",
          "name": "stdout",
          "text": [
            "Ket qua thu duoc y = \n",
            " [[1.90394660e-09 2.41133510e-10 9.18509901e-13 1.63894646e-10]\n",
            " [9.99999994e-01 5.05733280e-09 3.63853720e-15 3.43758762e-09]\n",
            " [8.52224696e-10 9.99999995e-01 1.00000000e+00 1.61672353e-12]\n",
            " [2.76000088e-09 4.30071339e-15 1.57930505e-12 9.99999996e-01]] \n",
            " Ket qua sau khi lam tron 3 chu so y= \n",
            " [[0. 0. 0. 0.]\n",
            " [1. 0. 0. 0.]\n",
            " [0. 1. 1. 0.]\n",
            " [0. 0. 0. 1.]]. \n",
            " Loss= 1.4420243257477655e-08 \n"
          ]
        }
      ]
    },
    {
      "cell_type": "code",
      "metadata": {
        "id": "aJevT1cLJjSr"
      },
      "source": [
        "Wxh = solution[0:12].reshape(3,4)\n",
        "Whh = solution[12:21].reshape(3,3)\n",
        "Why = solution[21:33].reshape(4,3)\n",
        "bh = solution[33:36].reshape(3,1)\n",
        "by = solution[36:].reshape(4,1)"
      ],
      "execution_count": null,
      "outputs": []
    },
    {
      "cell_type": "code",
      "metadata": {
        "colab": {
          "base_uri": "https://localhost:8080/"
        },
        "id": "dvV81YATJoRw",
        "outputId": "31f69521-afc7-4433-d1a6-efb1888ce843"
      },
      "source": [
        "print(\"Wxh:\\n {} \".format(np.round(Wxh,decimals=3)))\n",
        "print(\"Whh:\\n {} \".format(np.round(Whh,decimals=3)))\n",
        "print(\"Why:\\n {} \".format(np.round(Why,decimals=3)))\n",
        "print(\"bh:\\n {} \".format(np.round(bh,decimals=3)))\n",
        "print(\"by:\\n {} \".format(np.round(by,decimals=3)))"
      ],
      "execution_count": null,
      "outputs": [
        {
          "output_type": "stream",
          "name": "stdout",
          "text": [
            "Wxh:\n",
            " [[ 3.799  1.785 -3.698 -2.854]\n",
            " [-3.972  0.693  6.463 -4.443]\n",
            " [ 3.15  -2.258  4.773  6.607]] \n",
            "Whh:\n",
            " [[ 0.353  4.72   2.275]\n",
            " [-6.346  3.884 -0.824]\n",
            " [-3.105  4.441  0.048]] \n",
            "Why:\n",
            " [[  0.48    5.263  -0.816]\n",
            " [  5.326   1.584   7.231]\n",
            " [ -2.817   0.068 -11.979]\n",
            " [ -5.769  10.089   5.475]] \n",
            "bh:\n",
            " [[ 1.412]\n",
            " [-0.759]\n",
            " [ 0.015]] \n",
            "by:\n",
            " [[-1.488]\n",
            " [ 2.049]\n",
            " [ 6.933]\n",
            " [ 3.689]] \n"
          ]
        }
      ]
    },
    {
      "cell_type": "code",
      "metadata": {
        "colab": {
          "base_uri": "https://localhost:8080/"
        },
        "id": "3b08V9cKw2yh",
        "outputId": "d4cdd435-5cc3-406d-a4f5-6dc70538396c"
      },
      "source": [
        "data ='Helo'\n",
        "# define a mapping of chars to integers\n",
        "char_to_int =  {'H':0,'e':1,'l':2,\"o\":3}\n",
        "int_to_char = {0:'H',1:'e',2:'l',3:\"o\"}\n",
        "# integer encode input data\n",
        "integer_encoded = [char_to_int[char] for char in data]\n",
        "print(integer_encoded)\n",
        "# # one hot encode\n",
        "onehot_encoded = list()\n",
        "for value in integer_encoded:\n",
        "\tletter = [0 for _ in range(len(data))]\n",
        "\tletter[value] = 1\n",
        "\tonehot_encoded.append(letter)\n",
        "print(np.array(onehot_encoded).T)"
      ],
      "execution_count": null,
      "outputs": [
        {
          "output_type": "stream",
          "name": "stdout",
          "text": [
            "[0, 1, 2, 3]\n",
            "[[1 0 0 0]\n",
            " [0 1 0 0]\n",
            " [0 0 1 0]\n",
            " [0 0 0 1]]\n"
          ]
        }
      ]
    }
  ]
}